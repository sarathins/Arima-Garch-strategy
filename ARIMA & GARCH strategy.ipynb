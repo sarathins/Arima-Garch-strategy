{
 "cells": [
  {
   "cell_type": "code",
   "execution_count": 83,
   "id": "462c1d9c",
   "metadata": {},
   "outputs": [],
   "source": [
    "from IPython.core.interactiveshell import InteractiveShell\n",
    "InteractiveShell.ast_node_interactivity = \"all\""
   ]
  },
  {
   "cell_type": "code",
   "execution_count": 216,
   "id": "e7c757f0",
   "metadata": {},
   "outputs": [
    {
     "data": {
      "text/html": [
       "        <script type=\"text/javascript\">\n",
       "        window.PlotlyConfig = {MathJaxConfig: 'local'};\n",
       "        if (window.MathJax && window.MathJax.Hub && window.MathJax.Hub.Config) {window.MathJax.Hub.Config({SVG: {font: \"STIX-Web\"}});}\n",
       "        if (typeof require !== 'undefined') {\n",
       "        require.undef(\"plotly\");\n",
       "        requirejs.config({\n",
       "            paths: {\n",
       "                'plotly': ['https://cdn.plot.ly/plotly-2.12.1.min']\n",
       "            }\n",
       "        });\n",
       "        require(['plotly'], function(Plotly) {\n",
       "            window._Plotly = Plotly;\n",
       "        });\n",
       "        }\n",
       "        </script>\n",
       "        "
      ]
     },
     "metadata": {},
     "output_type": "display_data"
    }
   ],
   "source": [
    "import pandas as pd \n",
    "import numpy as np\n",
    "import yfinance as yf \n",
    "import datetime as dt \n",
    "import statsmodels.api as sm\n",
    "from arch import arch_model\n",
    "from statsmodels.tsa.arima.model import ARIMA\n",
    "import warnings\n",
    "warnings.filterwarnings('ignore')\n",
    "import matplotlib.pyplot as plt \n",
    "import cufflinks as cf\n",
    "cf.go_offline()\n",
    "import itertools "
   ]
  },
  {
   "cell_type": "code",
   "execution_count": 272,
   "id": "bbb2f5c3",
   "metadata": {},
   "outputs": [],
   "source": [
    "class arga:\n",
    "    \n",
    "    def __init__(self, ticker, start_date, end_date, interval):\n",
    "        self.ticker = ticker\n",
    "        self.start = start_date\n",
    "        self.end = end_date\n",
    "        self.interval = interval\n",
    "        self.data_gathering()\n",
    "        self.fit_arima()\n",
    "        self.fit_garch()\n",
    "        self.generate_signals()\n",
    "        self.calculate_strategy_returns()\n",
    "        self.plot_cumulative_returns()\n",
    "        self.analysis()\n",
    "\n",
    "    def data_gathering(self):\n",
    "        self.data = yf.download(self.ticker, self.start, self.end, self.interval).dropna()\n",
    "        return \n",
    "\n",
    "    def fit_arima(self, max_p=3, max_d=1, max_q=3):\n",
    "        pdq = itertools.product(range(max_p + 1), range(max_d + 1), range(max_q + 1))\n",
    "\n",
    "        # Filtering out models that don't converge using list comprehension\n",
    "        with warnings.catch_warnings():\n",
    "            warnings.filterwarnings(\"ignore\")\n",
    "            models = [(order, ARIMA(self.data['Adj Close'], order=order).fit()) for order in pdq]\n",
    "\n",
    "        # Finding the model with the lowest AIC\n",
    "        best_order, best_model = min(models, key=lambda x: x[1].aic, default=(None, None))\n",
    "\n",
    "        if best_model is not None:\n",
    "            print(f\"Best ARIMA Model: Order={best_order}, AIC={best_model.aic}\")\n",
    "            self.arima_order = best_order\n",
    "            self.arima_model = best_model\n",
    "            self.data['arima_residuals'] = best_model.resid\n",
    "            self.data['arima_prediction'] = best_model.predict(start=self.data.index[0], end=self.data.index[-1])\n",
    "        else:\n",
    "            print(\"No suitable ARIMA model found.\")\n",
    "            \n",
    "    def fit_garch(self, max_p=2, max_q=2):\n",
    "        pq_combinations = itertools.product(range(1, max_p + 1), range(max_q + 1))\n",
    "\n",
    "        # Filter out models that don't converge using list comprehension\n",
    "        with warnings.catch_warnings():\n",
    "            warnings.filterwarnings(\"ignore\")\n",
    "            models = [(params, arch_model(self.data['arima_residuals'], vol='Garch', p=params[0], q=params[1]).fit(disp='off')) for params in pq_combinations]\n",
    "\n",
    "        # Find the model with the lowest AIC\n",
    "        best_params, best_model = min(models, key=lambda x: x[1].aic, default=(None, None))\n",
    "\n",
    "        if best_model is not None:\n",
    "            print(f\"Best GARCH Model: Params={best_params}, AIC={best_model.aic}\")\n",
    "            self.garch_params = best_params\n",
    "            self.garch_model = best_model\n",
    "            self.data['garch_volatility'] = best_model.conditional_volatility\n",
    "        else:\n",
    "            print(\"No suitable GARCH model found.\")\n",
    "\n",
    "    def generate_signals(self):\n",
    "        # Pre-calculate quantile values to avoid recalculating them for each row\n",
    "        low_vol_threshold = self.data['garch_volatility'].quantile(0.05)\n",
    "        high_vol_threshold = self.data['garch_volatility'].quantile(0.95)\n",
    "\n",
    "        # Generate buy and sell signals\n",
    "        self.data['buy_signal'] = np.where(\n",
    "            (self.data['arima_residuals'] > 0) & (self.data['garch_volatility'] < low_vol_threshold),\n",
    "            1,\n",
    "            0\n",
    "        )\n",
    "\n",
    "        self.data['sell_signal'] = np.where(\n",
    "            (self.data['arima_residuals'] < 0) & (self.data['garch_volatility'] > high_vol_threshold),\n",
    "            -1,\n",
    "            0\n",
    "        )\n",
    "\n",
    "        \n",
    "    def calculate_strategy_returns(self, target_pct=0.05, stop_loss_pct=0.02):\n",
    "        self.data['entry_price'] = 0\n",
    "        self.data['exit_price'] = 0\n",
    "        self.data['trade_return'] = 0\n",
    "        position = 0  # No position initially\n",
    "\n",
    "        for index, row in self.data.iterrows():\n",
    "            # Entry Logic\n",
    "            if position == 0 and (row['buy_signal'] == 1 or row['sell_signal'] == -1):\n",
    "                position = 1 if row['buy_signal'] == 1 else -1\n",
    "                entry_price = row['Adj Close']\n",
    "                self.data.at[index, 'entry_price'] = entry_price\n",
    "                target_price = entry_price * (1 + target_pct)\n",
    "                stop_loss_price = entry_price * (1 - stop_loss_pct)\n",
    "\n",
    "            # Exit Logic\n",
    "            elif position != 0:\n",
    "                current_price = row['Adj Close']\n",
    "                exit_signal = (position == 1 and (current_price >= target_price or current_price <= stop_loss_price)) \\\n",
    "                          or (position == -1 and (current_price <= target_price or current_price >= stop_loss_price))\n",
    "\n",
    "                if exit_signal:\n",
    "                    self.data.at[index, 'exit_price'] = current_price\n",
    "                    trade_return = (current_price - entry_price) / entry_price if position == 1 else (entry_price - current_price) / entry_price\n",
    "                    self.data.at[index, 'trade_return'] = trade_return\n",
    "                    position = 0  # Reset position\n",
    "\n",
    "        # Calculate cumulative returns\n",
    "        self.data['cumulative_returns'] = (1 + self.data['trade_return']).cumprod()\n",
    "       \n",
    "        print(len(self.data['buy_signal']))\n",
    "        print(len(self.data['sell_signal']))\n",
    "        print(self.data)\n",
    "\n",
    "    def plot_cumulative_returns(self):\n",
    "        # Calculate buy-and-hold returns\n",
    "        #self.data['buy_and_hold_returns'] = (self.data['Adj Close'] / self.data['Adj Close'].iloc[0]).cumprod()\n",
    "\n",
    "        plt.figure(figsize=(10, 6))\n",
    "        plt.plot(self.data.index, self.data['cumulative_returns'], label='Strategy Returns', color='blue')\n",
    "        #plt.plot(self.data.index, self.data['buy_and_hold_returns'], label='Buy and Hold Returns', color='orange')\n",
    "        plt.title(f'Cumulative Returns for {self.ticker}')\n",
    "        plt.xlabel('Date')\n",
    "        plt.ylabel('Cumulative Returns')\n",
    "        plt.legend()\n",
    "        plt.show()\n",
    "\n",
    "        \n",
    "    def analysis(self, risk_free_rate=0.02):\n",
    "        # Calculate daily returns\n",
    "        daily_returns = self.data['Adj Close'].pct_change()\n",
    "\n",
    "        # Annualized mean return and standard deviation\n",
    "        annualized_mean_return = daily_returns.mean() * 252\n",
    "        annualized_std_dev = daily_returns.std() * np.sqrt(252)\n",
    "\n",
    "        # Sharpe ratio\n",
    "        sharpe_ratio = (annualized_mean_return - risk_free_rate) / annualized_std_dev\n",
    "\n",
    "        # Drawdown\n",
    "        previous_peaks = self.data['cumulative_returns'].cummax()\n",
    "        drawdown = self.data['cumulative_returns'] - previous_peaks\n",
    "        max_drawdown = drawdown.min()\n",
    "\n",
    "        # Sortino ratio\n",
    "        downside_returns = daily_returns[daily_returns < 0]\n",
    "        downside_std_dev = downside_returns.std() * np.sqrt(252)\n",
    "        sortino_ratio = (annualized_mean_return - risk_free_rate) / downside_std_dev if downside_std_dev != 0 else float('inf')\n",
    "\n",
    "        print(\"Sharpe Ratio:\", sharpe_ratio)\n",
    "        print(\"Max Drawdown:\", max_drawdown)\n",
    "        print(\"Sortino Ratio:\", sortino_ratio)\n",
    "\n",
    "\n"
   ]
  },
  {
   "cell_type": "code",
   "execution_count": null,
   "id": "387ac791",
   "metadata": {},
   "outputs": [],
   "source": []
  },
  {
   "cell_type": "code",
   "execution_count": 273,
   "id": "ab2cca9e",
   "metadata": {},
   "outputs": [
    {
     "data": {
      "text/plain": [
       "datetime.date(2023, 11, 17)"
      ]
     },
     "execution_count": 273,
     "metadata": {},
     "output_type": "execute_result"
    },
    {
     "data": {
      "text/plain": [
       "datetime.date(2023, 3, 10)"
      ]
     },
     "execution_count": 273,
     "metadata": {},
     "output_type": "execute_result"
    }
   ],
   "source": [
    "end = dt.date.today()\n",
    "start = end - pd.Timedelta(days= 252)\n",
    "end\n",
    "start"
   ]
  },
  {
   "cell_type": "code",
   "execution_count": 275,
   "id": "ac8a9ca7",
   "metadata": {},
   "outputs": [
    {
     "name": "stdout",
     "output_type": "stream",
     "text": [
      "[*********************100%%**********************]  1 of 1 completed\n",
      "Best ARIMA Model: Order=(2, 1, 2), AIC=1636.984992894101\n",
      "Best GARCH Model: Params=(1, 1), AIC=1692.66681844696\n",
      "169\n",
      "169\n",
      "                   Open         High          Low        Close    Adj Close  \\\n",
      "Date                                                                          \n",
      "2023-03-10  2341.500000  2344.000000  2315.050049  2322.699951  2314.523926   \n",
      "2023-03-13  2329.000000  2344.000000  2275.000000  2284.500000  2276.458496   \n",
      "2023-03-14  2280.000000  2304.949951  2269.050049  2275.949951  2267.938477   \n",
      "2023-03-15  2284.100098  2298.300049  2227.399902  2237.050049  2229.175537   \n",
      "2023-03-16  2243.000000  2254.000000  2202.199951  2225.899902  2218.064697   \n",
      "...                 ...          ...          ...          ...          ...   \n",
      "2023-11-09  2335.850098  2335.899902  2304.199951  2310.550049  2310.550049   \n",
      "2023-11-10  2305.550049  2316.350098  2298.050049  2314.899902  2314.899902   \n",
      "2023-11-13  2322.899902  2324.600098  2311.699951  2314.600098  2314.600098   \n",
      "2023-11-15  2340.000000  2361.949951  2327.000000  2356.449951  2356.449951   \n",
      "2023-11-16  2351.100098  2374.149902  2346.949951  2360.699951  2360.699951   \n",
      "\n",
      "              Volume  Dividends  Stock Splits  arima_residuals  \\\n",
      "Date                                                             \n",
      "2023-03-10   6153681        0.0           0.0      2314.523926   \n",
      "2023-03-13   5894088        0.0           0.0       -38.299005   \n",
      "2023-03-14   7396699        0.0           0.0        -4.575492   \n",
      "2023-03-15  10027725        0.0           0.0       -38.638400   \n",
      "2023-03-16   8474595        0.0           0.0       -11.167328   \n",
      "...              ...        ...           ...              ...   \n",
      "2023-11-09   7256805        0.0           0.0       -22.001261   \n",
      "2023-11-10   3867477        0.0           0.0         9.609843   \n",
      "2023-11-13   1927405        0.0           0.0        -0.789088   \n",
      "2023-11-15   6110324        0.0           0.0        37.234358   \n",
      "2023-11-16   6567455        0.0           0.0        -2.756144   \n",
      "\n",
      "            arima_prediction  garch_volatility  buy_signal  sell_signal  \\\n",
      "Date                                                                      \n",
      "2023-03-10          0.000000        426.660320           0            0   \n",
      "2023-03-13       2314.757501        321.199827           0           -1   \n",
      "2023-03-14       2272.513968        242.164402           0           -1   \n",
      "2023-03-15       2267.813937        183.048313           0           -1   \n",
      "2023-03-16       2229.232025        138.980902           0           -1   \n",
      "...                      ...               ...         ...          ...   \n",
      "2023-11-09       2332.551310         30.291474           0            0   \n",
      "2023-11-10       2305.290059         30.291474           0            0   \n",
      "2023-11-13       2315.389185         30.291474           0            0   \n",
      "2023-11-15       2319.215593         30.291474           0            0   \n",
      "2023-11-16       2363.456095         30.291474           0            0   \n",
      "\n",
      "            entry_price   exit_price  trade_return  cumulative_returns  \n",
      "Date                                                                    \n",
      "2023-03-10     0.000000     0.000000      0.000000            1.000000  \n",
      "2023-03-13  2276.458496     0.000000      0.000000            1.000000  \n",
      "2023-03-14     0.000000  2267.938477      0.003743            1.003743  \n",
      "2023-03-15  2229.175537     0.000000      0.000000            1.003743  \n",
      "2023-03-16     0.000000  2218.064697      0.004984            1.008746  \n",
      "...                 ...          ...           ...                 ...  \n",
      "2023-11-09     0.000000     0.000000      0.000000            1.018660  \n",
      "2023-11-10     0.000000     0.000000      0.000000            1.018660  \n",
      "2023-11-13     0.000000     0.000000      0.000000            1.018660  \n",
      "2023-11-15     0.000000     0.000000      0.000000            1.018660  \n",
      "2023-11-16     0.000000     0.000000      0.000000            1.018660  \n",
      "\n",
      "[169 rows x 17 columns]\n"
     ]
    },
    {
     "data": {
      "image/png": "[encoded data removed]",
      "text/plain": [
       "<Figure size 1000x600 with 1 Axes>"
      ]
     },
     "metadata": {},
     "output_type": "display_data"
    },
    {
     "name": "stdout",
     "output_type": "stream",
     "text": [
      "Sharpe Ratio: 0.14807852735881247\n",
      "Max Drawdown: 0.0\n",
      "Sortino Ratio: 0.1851266416049362\n"
     ]
    }
   ],
   "source": [
    "calm = arga(\"RELIANCE.NS\", start, end, interval=\"1d\")"
   ]
  },
  {
   "cell_type": "code",
   "execution_count": null,
   "id": "9b689651",
   "metadata": {},
   "outputs": [],
   "source": []
  },
  {
   "cell_type": "code",
   "execution_count": null,
   "id": "34cf17b1",
   "metadata": {},
   "outputs": [],
   "source": []
  },
  {
   "cell_type": "code",
   "execution_count": null,
   "id": "a1560fd4",
   "metadata": {},
   "outputs": [],
   "source": []
  },
  {
   "cell_type": "code",
   "execution_count": null,
   "id": "9ae315d1",
   "metadata": {},
   "outputs": [],
   "source": []
  },
  {
   "cell_type": "code",
   "execution_count": null,
   "id": "c5009225",
   "metadata": {},
   "outputs": [],
   "source": []
  },
  {
   "cell_type": "code",
   "execution_count": null,
   "id": "6f48296a",
   "metadata": {},
   "outputs": [],
   "source": []
  },
  {
   "cell_type": "code",
   "execution_count": null,
   "id": "47e0c7d8",
   "metadata": {},
   "outputs": [],
   "source": []
  }
 ],
 "metadata": {
  "kernelspec": {
   "display_name": "Python 3 (ipykernel)",
   "language": "python",
   "name": "python3"
  },
  "language_info": {
   "codemirror_mode": {
    "name": "ipython",
    "version": 3
   },
   "file_extension": ".py",
   "mimetype": "text/x-python",
   "name": "python",
   "nbconvert_exporter": "python",
   "pygments_lexer": "ipython3",
   "version": "3.9.13"
  }
 },
 "nbformat": 4,
 "nbformat_minor": 5
}
